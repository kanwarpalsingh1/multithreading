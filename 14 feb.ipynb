{
 "cells": [
  {
   "cell_type": "code",
   "execution_count": 1,
   "id": "41230ab8-f305-480a-8269-ecb73c395baf",
   "metadata": {},
   "outputs": [
    {
     "name": "stdout",
     "output_type": "stream",
     "text": [
      "1\n",
      "2\n",
      "3\n",
      "4\n",
      "5\n",
      "Thread execution is complete\n"
     ]
    }
   ],
   "source": [
    "'''). hat is multithreading in python? hy is it used? Name the module used to handle threads in python'''\n",
    "'''Multithreading is used in Python for various purposes, including:\n",
    "\n",
    "Concurrency: Multithreading allows you to perform multiple tasks simultaneously, such as handling multiple client requests in a server application or executing multiple I/O-bound operations concurrently.\n",
    "\n",
    "Parallelism: While Python's Global Interpreter Lock (GIL) limits true parallelism in CPU-bound tasks, multithreading can still be useful for parallelizing tasks that involve I/O operations, such as network requests or disk I/O.\n",
    "\n",
    "Improved responsiveness: By running tasks concurrently, multithreading can improve the responsiveness of applications, especially in GUI applications where responsiveness is crucial for a good user experience.'''\n",
    "import threading\n",
    "\n",
    "def print_numbers():\n",
    "    for i in range(1, 6):\n",
    "        print(i)\n",
    "\n",
    "# Create a new thread\n",
    "thread = threading.Thread(target=print_numbers)\n",
    "\n",
    "# Start the thread\n",
    "thread.start()\n",
    "\n",
    "# Wait for the thread to complete (optional)\n",
    "thread.join()\n",
    "\n",
    "print(\"Thread execution is complete\")"
   ]
  },
  {
   "cell_type": "code",
   "execution_count": 2,
   "id": "fd711dc5-477b-402c-9667-b179d98f6240",
   "metadata": {},
   "outputs": [
    {
     "name": "stdout",
     "output_type": "stream",
     "text": [
      "Thread\n",
      "Thread\n",
      "Thread\n",
      "Thread\n",
      "Thread\n",
      "Number of active threads: 8\n",
      "Current Thread: Thread-11 (print_current_thread)\n",
      "Active Threads:\n",
      "MainThread\n",
      "IOPub\n",
      "Heartbeat\n",
      "Thread-3 (_watch_pipe_fd)\n",
      "Thread-4 (_watch_pipe_fd)\n",
      "Control\n",
      "IPythonHistorySavingThread\n",
      "Thread-2\n"
     ]
    },
    {
     "name": "stderr",
     "output_type": "stream",
     "text": [
      "/tmp/ipykernel_682/2635828734.py:16: DeprecationWarning: activeCount() is deprecated, use active_count() instead\n",
      "  print(\"Number of active threads:\", threading.activeCount())\n",
      "/tmp/ipykernel_682/2635828734.py:21: DeprecationWarning: currentThread() is deprecated, use current_thread() instead\n",
      "  current_thread = threading.currentThread()\n"
     ]
    }
   ],
   "source": [
    "'''. hy threading module used? rite the use of the following functions\n",
    "( activeCount\n",
    " currentThread\n",
    " enumerate)'''\n",
    "'''activeCount(): This function returns the number of Thread objects currently alive. It includes the main thread and any other active threads that have been created but not yet terminated.'''\n",
    "import threading\n",
    "\n",
    "# Create some threads\n",
    "threads = [threading.Thread(target=lambda: print(\"Thread\")) for _ in range(5)]\n",
    "\n",
    "# Start the threads\n",
    "for thread in threads:\n",
    "    thread.start()\n",
    "\n",
    "# Print the number of active threads\n",
    "print(\"Number of active threads:\", threading.activeCount())\n",
    "'''currentThread(): This function returns the current Thread object representing the thread from which it is called'''\n",
    "import threading\n",
    "\n",
    "def print_current_thread():\n",
    "    current_thread = threading.currentThread()\n",
    "    print(\"Current Thread:\", current_thread.name)\n",
    "\n",
    "# Create a thread and start it\n",
    "thread = threading.Thread(target=print_current_thread)\n",
    "thread.start()\n",
    "'''enumerate(): This function returns a list of all Thread objects currently alive. It includes the main thread and any other active threads that have been created but not yet terminated.'''\n",
    "import threading\n",
    "\n",
    "def my_function():\n",
    "    pass\n",
    "\n",
    "# Create some threads\n",
    "threads = [threading.Thread(target=my_function) for _ in range(3)]\n",
    "\n",
    "# Start the threads\n",
    "for thread in threads:\n",
    "    thread.start()\n",
    "\n",
    "# Enumerate and print all active threads\n",
    "print(\"Active Threads:\")\n",
    "for thread in threading.enumerate():\n",
    "    print(thread.name)"
   ]
  },
  {
   "cell_type": "code",
   "execution_count": 3,
   "id": "f285d38d-c186-45f2-aecc-4242c5e24ec1",
   "metadata": {},
   "outputs": [
    {
     "name": "stdout",
     "output_type": "stream",
     "text": [
      "Thread is running\n",
      "Thread is running\n",
      "Thread is done\n",
      "Thread has completed\n"
     ]
    },
    {
     "ename": "AttributeError",
     "evalue": "'Thread' object has no attribute 'isAlive'",
     "output_type": "error",
     "traceback": [
      "\u001b[0;31m---------------------------------------------------------------------------\u001b[0m",
      "\u001b[0;31mAttributeError\u001b[0m                            Traceback (most recent call last)",
      "Cell \u001b[0;32mIn[3], line 52\u001b[0m\n\u001b[1;32m     49\u001b[0m thread\u001b[38;5;241m.\u001b[39mstart()\n\u001b[1;32m     51\u001b[0m \u001b[38;5;66;03m# Check if the thread is alive\u001b[39;00m\n\u001b[0;32m---> 52\u001b[0m \u001b[38;5;28;01mif\u001b[39;00m \u001b[43mthread\u001b[49m\u001b[38;5;241;43m.\u001b[39;49m\u001b[43misAlive\u001b[49m():\n\u001b[1;32m     53\u001b[0m     \u001b[38;5;28mprint\u001b[39m(\u001b[38;5;124m\"\u001b[39m\u001b[38;5;124mThread is still running\u001b[39m\u001b[38;5;124m\"\u001b[39m)\n\u001b[1;32m     54\u001b[0m \u001b[38;5;28;01melse\u001b[39;00m:\n",
      "\u001b[0;31mAttributeError\u001b[0m: 'Thread' object has no attribute 'isAlive'"
     ]
    },
    {
     "name": "stdout",
     "output_type": "stream",
     "text": [
      "Thread is done\n"
     ]
    }
   ],
   "source": [
    "'''3. Explain the following functions\n",
    "( run\n",
    " start\n",
    " join\n",
    "' isAlive)'''\n",
    "'''run(): The run() method is the entry point for the thread's activity. You typically override this method in a subclass of threading.Thread to define the behavior of the thread. When you create a new thread object and call its start() method, it internally invokes the run() method of the thread's target function or callable object.'''\n",
    "import threading\n",
    "\n",
    "class MyThread(threading.Thread):\n",
    "    def run(self):\n",
    "        print(\"Thread is running\")\n",
    "\n",
    "# Create and start a thread\n",
    "thread = MyThread()\n",
    "thread.start()\n",
    "'''start(): The start() method is used to start the execution of a thread. It creates a new operating system thread and invokes the run() method of the thread's target function or callable object. Once a thread is started, it begins executing concurrently with other threads.'''\n",
    "import threading\n",
    "\n",
    "def my_function():\n",
    "    print(\"Thread is running\")\n",
    "\n",
    "# Create and start a thread\n",
    "thread = threading.Thread(target=my_function)\n",
    "thread.start()\n",
    "'''join(): The join() method is used to wait for the thread to complete its execution. When you call join() on a thread object, the calling thread (usually the main thread) will block until the specified thread terminates. This is useful for synchronizing the execution of multiple threads.'''\n",
    "import time\n",
    "\n",
    "def my_function():\n",
    "    time.sleep(2)\n",
    "    print(\"Thread is done\")\n",
    "\n",
    "# Create and start a thread\n",
    "thread = threading.Thread(target=my_function)\n",
    "thread.start()\n",
    "\n",
    "# Wait for the thread to complete\n",
    "thread.join()\n",
    "print(\"Thread has completed\")\n",
    "'''isAlive(): The isAlive() method is used to check whether a thread is currently executing or has terminated. It returns True if the thread is alive (i.e., still running) and False otherwise. This method is often used to check the status of a thread before performing certain actions.'''\n",
    "import threading\n",
    "import time\n",
    "\n",
    "def my_function():\n",
    "    time.sleep(2)\n",
    "    print(\"Thread is done\")\n",
    "\n",
    "# Create and start a thread\n",
    "thread = threading.Thread(target=my_function)\n",
    "thread.start()\n",
    "\n",
    "# Check if the thread is alive\n",
    "if thread.isAlive():\n",
    "    print(\"Thread is still running\")\n",
    "else:\n",
    "    print(\"Thread has completed\")"
   ]
  },
  {
   "cell_type": "code",
   "execution_count": 4,
   "id": "bb03601b-0294-44b8-8deb-48c02a1e0add",
   "metadata": {},
   "outputs": [
    {
     "name": "stdout",
     "output_type": "stream",
     "text": [
      "List of squares: [1, 4, 9, 16, 25]\n",
      "List of cubes: [1, 8, 27, 64, 125]\n",
      "Main thread exiting\n"
     ]
    }
   ],
   "source": [
    "'''4. rite a python program to create two threads. Thread one must print the list of squares and thread\n",
    "two must print the list of cubes'''\n",
    "import threading\n",
    "\n",
    "def print_squares():\n",
    "    squares = [num ** 2 for num in range(1, 6)]\n",
    "    print(\"List of squares:\", squares)\n",
    "\n",
    "def print_cubes():\n",
    "    cubes = [num ** 3 for num in range(1, 6)]\n",
    "    print(\"List of cubes:\", cubes)\n",
    "\n",
    "# Create threads\n",
    "thread1 = threading.Thread(target=print_squares)\n",
    "thread2 = threading.Thread(target=print_cubes)\n",
    "\n",
    "# Start threads\n",
    "thread1.start()\n",
    "thread2.start()\n",
    "\n",
    "# Wait for threads to complete\n",
    "thread1.join()\n",
    "thread2.join()\n",
    "\n",
    "print(\"Main thread exiting\")"
   ]
  },
  {
   "cell_type": "markdown",
   "id": "2d1fa447-339c-4996-b4b5-7ee44fcb14c8",
   "metadata": {},
   "source": [
    "'''5. State advantages and disadvantages of multithreading'''\n",
    "Advantages:\n",
    "Concurrency: Multithreading allows multiple tasks to run concurrently within a single process. This can lead to improved performance and responsiveness, especially in applications with parallelizable tasks.\n",
    "\n",
    "Resource Utilization: Multithreading can maximize CPU utilization by keeping the CPU busy with useful work. It allows the CPU to switch between threads when one is waiting for I/O or other non-CPU-bound operations.\n",
    "\n",
    "Responsiveness: Multithreading can improve the responsiveness of applications, particularly in user interfaces and server applications. It allows the application to remain responsive to user input or client requests while performing background tasks concurrently.\n",
    "\n",
    "Modularity: Multithreading enables modular design by allowing different parts of the application to be implemented as separate threads. This can lead to cleaner, more maintainable code, as complex tasks can be broken down into smaller, more manageable components.\n",
    "\n",
    "Parallelism: Multithreading facilitates parallelism, allowing different parts of the program to execute simultaneously on multiple CPU cores. This can lead to significant performance gains in CPU-bound tasks when properly utilized.\n",
    "\n",
    "Disadvantages:\n",
    "Complexity: Multithreading introduces complexity to the code, as developers must consider issues such as thread synchronization, race conditions, and deadlock prevention. Writing correct and efficient multithreaded code can be challenging and error-prone.\n",
    "\n",
    "Synchronization Overhead: Synchronizing access to shared resources among multiple threads can introduce overhead and potentially degrade performance. Locking mechanisms such as mutexes and semaphores are often needed to ensure data integrity and prevent race conditions, which can add complexity and overhead to the code.\n",
    "\n",
    "Debugging and Testing: Multithreaded applications are often harder to debug and test compared to single-threaded applications. Race conditions and concurrency bugs may occur intermittently and can be difficult to reproduce and diagnose.\n",
    "\n",
    "Resource Consumption: Each thread consumes system resources such as memory for its stack and CPU time for scheduling and execution. Creating too many threads can lead to resource exhaustion and reduced performance due to increased context switching overhead.\n",
    "\n",
    "Potential for Deadlocks: Multithreading increases the risk of deadlocks, where two or more threads are blocked indefinitely, waiting for each other to release resources. Deadlocks can occur when threads acquire locks in different orders and become stuck in a circular waiting pattern"
   ]
  },
  {
   "cell_type": "markdown",
   "id": "61b1a52c-8dcc-4659-b104-2ebfb1684604",
   "metadata": {},
   "source": [
    "'''6. Explain deadlocks and race conditions.'''\n",
    "eadlocks:\n",
    "A deadlock occurs when two or more threads are blocked indefinitely, waiting for each other to release resources that they need to proceed. Deadlocks typically involve multiple threads and a circular waiting pattern.\n",
    "\n",
    "Characteristics of Deadlocks:\n",
    "Circular Waiting: Deadlocks involve a circular chain of two or more threads, each holding a resource that another thread needs. As a result, none of the threads can proceed, leading to a deadlock situation.\n",
    "\n",
    "Resource Contention: Deadlocks occur when threads contend for exclusive access to shared resources such as locks, mutexes, or other synchronization primitives.\n",
    "\n",
    "Indefinite Blocking: Deadlocks result in indefinite blocking, where threads remain blocked indefinitely, unable to make progress or release the resources they hold.\n",
    "\n",
    "Example of Deadlock:\n",
    "Consider two threads, Thread A and Thread B, each holding a lock that the other thread needs to proceed:\n",
    "\n",
    "Thread A acquires Lock 1.\n",
    "Thread B acquires Lock 2.\n",
    "Thread A attempts to acquire Lock 2, but it is held by Thread B, so Thread A waits.\n",
    "Similarly, Thread B attempts to acquire Lock 1, but it is held by Thread A, so Thread B waits.\n",
    "Both threads are now waiting for each other to release the lock they need, resulting in a deadlock situation.\n",
    "\n",
    "Race Conditions:\n",
    "A race condition occurs when the behavior of a program depends on the timing or interleaving of operations performed by multiple threads. It arises when multiple threads access shared resources concurrently without proper synchronization, leading to unpredictable or unintended behavior.\n",
    "\n",
    "Characteristics of Race Conditions:\n",
    "Unpredictable Behavior: Race conditions can lead to unpredictable or non-deterministic behavior of the program, as the outcome depends on the relative timing of operations performed by different threads.\n",
    "\n",
    "Data Corruption: Race conditions can cause data corruption or inconsistency when multiple threads concurrently read from and write to shared data structures without proper synchronization.\n",
    "\n",
    "Intermittent Bugs: Race conditions often manifest as intermittent bugs that are difficult to reproduce and diagnose. The program may work correctly most of the time but fail unpredictably under certain timing conditions.\n",
    "\n",
    "Example of Race Condition:\n",
    "Consider two threads, Thread A and Thread B, incrementing a shared variable counter without proper synchronization:\n",
    "\n",
    "Thread A reads the current value of counter (let's say it's 5).\n",
    "Thread B also reads the current value of counter (still 5).\n",
    "Thread A increments counter by 1 (now counter is 6).\n",
    "Thread B also increments counter by 1 (now counter is 7), unaware that Thread A has already modified it.\n",
    "The final value of counter is expected to be 8 (initial value + 2 increments), but due to the race condition, it ends up being 7, as one of the increments is lost."
   ]
  },
  {
   "cell_type": "code",
   "execution_count": null,
   "id": "b2187bc0-4af1-475a-845f-f852642348c1",
   "metadata": {},
   "outputs": [],
   "source": []
  }
 ],
 "metadata": {
  "kernelspec": {
   "display_name": "Python 3 (ipykernel)",
   "language": "python",
   "name": "python3"
  },
  "language_info": {
   "codemirror_mode": {
    "name": "ipython",
    "version": 3
   },
   "file_extension": ".py",
   "mimetype": "text/x-python",
   "name": "python",
   "nbconvert_exporter": "python",
   "pygments_lexer": "ipython3",
   "version": "3.10.8"
  }
 },
 "nbformat": 4,
 "nbformat_minor": 5
}
